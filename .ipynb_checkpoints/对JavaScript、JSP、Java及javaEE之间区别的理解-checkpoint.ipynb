{
 "cells": [
  {
   "cell_type": "markdown",
   "metadata": {},
   "source": [
    "# 对JavaScript、JSP、Java及javaEE之间区别的理解"
   ]
  },
  {
   "cell_type": "markdown",
   "metadata": {},
   "source": [
    "JavaScript和Java名字极为相似。\n",
    "\n",
    "JSP（Java Server Pages）是由Sun Microsystems公司倡导和许多公式参与共同创建的一种使软件开发者可以响应客户端请求，而动态生成HTML、XML或其他格式文档的Web网页的技术标准。JSP可以嵌套在html中。简单来说就是java服务器端页面，控制各种页面的跳转和数据的输入输出。\n",
    "\n",
    "JavaScript与Java\n",
    "\n",
    "JavaScript是客户端脚本语言。而Java则相当于JSP的服务器端脚本语言。服务器端脚本语言与客户端脚本语言的不同点在于他们被执行的时间不同。JSP页面中的Java代码，首先被解析成对应的Servlet，然后被编译并运行，在服务器端就被执行了；而客户端脚本语言如JavaScript，在JSP被编译的时候，就像普通的HTMl代码一样，作为打印信息存在与Servlet中，只有它混合着HTML被传送到客户端浏览器时，才最终被浏览器执行。\n",
    "\n",
    "JavaScript语言虽然名称中包含java，但其实与Java没有什么本质的联系，当初取这个名字也只是为了吸引更多眼球。JavaScript是一种动态、弱类型、基于原型的语言，结构较为自由松散；而Java是面向对象的编程语言，必须先进行编译和连接等动作才可执行，结构较为严谨。在JavaScript中，变量的定义和java不一样，java里面要详细指明变量的类型，如int a; int b=10;而JavaScript中没有这么严格的申明要求，比较随意，如var a; var b=3; c=8;等。熟悉java的人特别容易犯的错误是在JavaScript中写for循环，写成：for(int i=0;i<10;i++){}这样是不能被执行的，要去掉变量声明int，改成：for(i=0;i<10;i++){｝。\n",
    "\n",
    "总结：\n",
    "Java  服务器端脚本语言  被执行位置服务器  结构较为严谨  主要进行业务逻辑的校验和控制\n",
    "JavaScript 客户端脚本语言  被执行位置浏览器  结构自由松散  在客户端对单表输入格式的校验\n",
    "\n",
    "JavaEE， 又称J2EE（Java 2 Platform Enterprise Edition，Java平台企业版）。J2EE是一系列技术标准所组成的平台，不仅仅是指一种标准平台，它更多的表达着一种软件架构和设计思想。它包含了HTML，Java，JSP，JavaScript等各种网页开发技术。\n",
    "\n",
    "Java分三个版本：Java SE（标准版）、Java EE（企业版）、 Java ME（微型版）。其中SE大家学的Java基础，EE是公司最常用的用于网站开发（PC端），ME用于移动端开发（像以前诺基亚的塞班系统中的java，现在随着安卓的崛起，ME跟着塞班一起没落了，没人用）\n",
    "\n",
    "补充：\n",
    "\n",
    "目前，java 2平台有3个版本，它们是适用于小型设备和智能卡的java 2平台micro版（java 2 platform micro edition，j2me）、适用于桌面系统的java 2平台标准版（java 2 platform standard edition，j2se）、适用于创建服务器应用程序和服务的java 2平台企业版（java 2 platform enterprise edition，j2ee）。\n",
    "\n",
    "           j2ee是一种利用java 2平台来简化企业解决方案的开发、部署和管理相关的复杂问题的体系结构。j2ee技术的基础就是核心java平台或java 2平台的标准版，j2ee不仅巩固了标准版中的许多优点，例如\"编写一次、随处运行\"的特性、方便存取数据库的jdbc api、corba技术以及能够在internet应用中保护数据的安全模式等等，同时还提供了对 ejb（enterprise javabeans）、java servlets api、jsp（java server pages）以及xml技术的全面支持。其最终目的就是成为一个能够使企业开发者大幅缩短投放市场时间的体系结构。\n",
    "\n",
    "           j2ee体系结构提供中间层集成框架用来满足无需太多费用而又需要高可用性、高可靠性以及可扩展性的应用的需求。通过提供统一的开发平台，j2ee降低了 开发多层应用的费用和复杂性，同时提供对现有应用程序集成强有力支持，完全支持enterprise javabeans，有良好的向导支持打包和部署应用，添加目录支持，增强了安全机制，提高了性能。\n",
    "\n",
    "\n",
    "java se 是java平台标准版的简称（java platform, standard edition） (also known as java 2 platform) ，用于开发和部署桌面、服务器以及嵌入设备和实时环境中的java应用程序。java se包括用于开发java web服务的类库，同时，java se为java ee提供了基础。\n",
    "\n",
    "java se（java platform, standard edition，java标准版）就是基于jdk和jre的。\n",
    "\n",
    "\n",
    "java ee是java平台企业版的简称（java platform, enterprise edition），用于开发便于组装、健壮、可扩展、安全的服务器端java应用。java ee建立于java se之上，具有web服务、组件模型、以及通信api等特性，这些为面向服务的架构（soa）以及开发web2.0应用提供了支持。\n",
    "\n",
    "java ee基于java se，此外新加了企业应用所需的类库。\n",
    "\n",
    "\n",
    "java me是java微版的简称（java platform, enterprise edition），是一个技术和规范的集合，它为移动设备（包括消费类产品、嵌入式设备、高级移动设备等）提供了基于java环境的开发与应用平台。 java me目前分为两类配置，一类是面向小型移动设备的cldc（connected limited device profile ），一类是面型功能更强大的移动设备如智能手机和及顶盒，称为cdc（connected device profile cdc）\n",
    "\n",
    "java me有自己的类库，其中cldc使用的是专用的java虚拟机叫做kvm。\n",
    "\n",
    "JavaEE 比 se多了许多包，用于开发大规模的，分布式的Java应用/服务器。\n",
    "比如JSP，Servlet相关的包都是在JavaEE范畴，SE里面没有的。\n",
    "SE就包含基本包。\n",
    "J2SE：Java   2   Platform,   Standard   Edition；（标准版） \n",
    "J2EE：Java   2   Technology,   Enterprise   Edition；（企业版） \n",
    "\n",
    "\n",
    "\n",
    "\n",
    "\n",
    "\n",
    "\n",
    "\n"
   ]
  }
 ],
 "metadata": {
  "kernelspec": {
   "display_name": "Python 3",
   "language": "python",
   "name": "python3"
  },
  "language_info": {
   "codemirror_mode": {
    "name": "ipython",
    "version": 3
   },
   "file_extension": ".py",
   "mimetype": "text/x-python",
   "name": "python",
   "nbconvert_exporter": "python",
   "pygments_lexer": "ipython3",
   "version": "3.5.1"
  }
 },
 "nbformat": 4,
 "nbformat_minor": 0
}

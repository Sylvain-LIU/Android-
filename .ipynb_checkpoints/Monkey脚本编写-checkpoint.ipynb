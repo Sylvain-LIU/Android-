{
 "cells": [
  {
   "cell_type": "markdown",
   "metadata": {},
   "source": [
    "# Monkey脚本编写"
   ]
  },
  {
   "cell_type": "markdown",
   "metadata": {},
   "source": [
    "1.轨迹球事件\n",
    "\n",
    "DispatchTrackBall(long downTime,long eventTime,int action,float x,float y, float pressure, float size, int metaState,float xPrecision,float yPrecision, int device, int edgeFlags)\n",
    "\n",
    "我们最关注的，只有action、x、y这三个。\n",
    "\n",
    "对于action，0表示按下（KeyDown），1表示弹起（KeyUp）。如果要实现点击事件，该方法应该成对出现，并且action参数应该先传入0，然后传入1。\n",
    "\n",
    "例如：\n",
    "\n",
    "DispatchTrackBall(5109520，5109520，0，1150，330，0，0，0，0，0，0，0)\n",
    "DispatchTrackBall(5109520，5109520，0，1150，330，0，0，0，0，0，0，0)\n",
    "\n",
    "x，和y，是定位的坐标点。\n",
    "\n",
    "2.输入字符串事件\n",
    "\n",
    "DispatchString（String text）\n",
    "\n",
    "输入一个不加引号的字符串，如Dispatchstring(abcd)，表示输入adbc字符。\n",
    "\n",
    "3.点击事件\n",
    "\n",
    "DispatchPointer(long downTime,long eventTime,int action,float x,float y, float pressure, float size, int metaState,float xPrecision,float yPrecision, int device, int edgeFlags)\n",
    "\n",
    "4.启动应用\n",
    "\n",
    "LauchActivity（String pkg_name，String cl_name）\n",
    "\n",
    "参数为应用所在包名（pkg_name）和应用名（cl_name）\n",
    "\n",
    "如：\n",
    "\n",
    "LauchActivity(com.android.browser,com.android.brower.BrowserActivity)\n",
    "这样就可以启动浏览器（BrowserActivity）这个应用了。\n",
    "\n",
    "5.等待事件\n",
    "UserWait（long sleeptime）\n",
    "操作需要等待时间，单位为毫秒，如UserWait（3000）表示等待3秒。\n",
    "\n",
    "\n",
    "6.按下键值\n",
    "DispatchPress（int keycode）\n",
    "\n",
    "\n",
    "7.长按键值\n",
    "LongPress（int keycode）\n",
    "\n",
    "\n",
    "8.发送键值\n",
    "DispathKey（long downTime，long envenTime，int code, int metastate, int device,int scancode）\n",
    " 发送键值的确比按下键值复杂程度。\n",
    " \n",
    " \n",
    " 9.开关软键盘\n",
    " DispatchFile（boolean）\n",
    " 表示是否打开软键盘，true表示打开，false表示关闭。"
   ]
  },
  {
   "cell_type": "markdown",
   "metadata": {},
   "source": [
    "### Monkey脚本编写："
   ]
  },
  {
   "cell_type": "markdown",
   "metadata": {},
   "source": [
    "monkey script是按照一定的语法规则编写有序的用户事件流，并适用于monkey命令工具的脚本\n",
    "\n",
    "monkey script的编写一般以如下4句语句开头：\n",
    "\n",
    "type=raw events   --指明脚本类型，一般不用更改\n",
    "count=10          --脚本执行次数\n",
    "speed=1.0         --命令执行速率\n",
    "start data        --相当于一个入口，说明脚本从下面开始执行\n"
   ]
  }
 ],
 "metadata": {
  "kernelspec": {
   "display_name": "Python 3",
   "language": "python",
   "name": "python3"
  },
  "language_info": {
   "codemirror_mode": {
    "name": "ipython",
    "version": 3
   },
   "file_extension": ".py",
   "mimetype": "text/x-python",
   "name": "python",
   "nbconvert_exporter": "python",
   "pygments_lexer": "ipython3",
   "version": "3.5.1"
  }
 },
 "nbformat": 4,
 "nbformat_minor": 0
}
